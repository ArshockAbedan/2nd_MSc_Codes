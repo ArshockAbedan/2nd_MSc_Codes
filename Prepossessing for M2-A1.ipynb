{
 "cells": [
  {
   "cell_type": "markdown",
   "metadata": {},
   "source": [
    "Here we do preprossing task for Method 2 - Approach 1;\n",
    "\n",
    "\n",
    "We are creating masked images for using in EdgeConnect"
   ]
  },
  {
   "cell_type": "code",
   "execution_count": 1,
   "metadata": {},
   "outputs": [],
   "source": [
    "import cv2\n",
    "import numpy as np\n",
    "from os import listdir\n",
    "from os.path import isfile, join\n"
   ]
  },
  {
   "cell_type": "code",
   "execution_count": 2,
   "metadata": {},
   "outputs": [],
   "source": [
    "mask_path = \"/home/aabedjoo/Aref_project/night2day_missing/qd_imd/test/\"\n",
    "Dataset_root = \"/home/aabedjoo/Aref_project/Main_Dataset/night/test/\"\n",
    "edgeconnect_root = \"/home/aabedjoo/Aref_project/edge-connect/examples/night2day/M2-A1/\"\n",
    "dsize = (64, 64)\n",
    "\n",
    "onlyfiles_night = [f for f in listdir(Dataset_root) if isfile(join(Dataset_root, f))]\n",
    "i = 1\n",
    "for file_name_night in onlyfiles_night:\n",
    "    # Load the original image\n",
    "    file_night = Dataset_root + file_name_night \n",
    "    image_night_256 = cv2.imread(file_night)\n",
    "\n",
    "    file_name_arr = file_name_night.split('.')\n",
    "    destination_file_name = file_name_arr[0]\n",
    "    \n",
    "    resized_image_64 = cv2.resize(image_night_256, dsize)\n",
    "    \n",
    "    height = width = 256\n",
    "    mask_256 = np.full((height,width,3), 255) # mask\n",
    "    missing_image_night_256 = np.full((height,width,3), 255) # night image with missing point\n",
    "    rows, cols, chanels = mask_256.shape\n",
    "    for row in range(rows):\n",
    "        if row % 4 == 0:\n",
    "            for col in range(cols):\n",
    "                if col % 4 == 0:\n",
    "                    for chl in range(chanels):\n",
    "                        mask_256[row,col,chl] = 0\n",
    "                        missing_image_night_256[row,col,chl] = resized_image_64[row // 4,col // 4,chl]\n",
    "    \n",
    "    ############################\n",
    "    # a random mask\n",
    "    \n",
    "    \n",
    "    ####################################\n",
    "    destination_file_path = edgeconnect_root + \"images/\" + destination_file_name + \".png\"\n",
    "    destination_mask_path = edgeconnect_root + \"masks/\" + destination_file_name + \".png\"\n",
    "    destination_64_path = edgeconnect_root + \"64_Original_images/\" + destination_file_name + \".png\"\n",
    "\n",
    "    # Saving the image\n",
    "    cv2.imwrite(destination_file_path, missing_image_night_256)\n",
    "    cv2.imwrite(destination_mask_path, mask_256)\n",
    "    cv2.imwrite(destination_64_path, resized_image_64)\n",
    "    i =  i + 1\n",
    "    print(i)"
   ]
  },
  {
   "cell_type": "code",
   "execution_count": null,
   "metadata": {},
   "outputs": [],
   "source": []
  }
 ],
 "metadata": {
  "kernelspec": {
   "display_name": "Python 3",
   "language": "python",
   "name": "python3"
  },
  "language_info": {
   "codemirror_mode": {
    "name": "ipython",
    "version": 3
   },
   "file_extension": ".py",
   "mimetype": "text/x-python",
   "name": "python",
   "nbconvert_exporter": "python",
   "pygments_lexer": "ipython3",
   "version": "3.8.5"
  }
 },
 "nbformat": 4,
 "nbformat_minor": 5
}
